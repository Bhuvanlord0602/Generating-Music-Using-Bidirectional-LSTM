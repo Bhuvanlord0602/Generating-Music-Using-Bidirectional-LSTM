{
 "cells": [
  {
   "cell_type": "code",
   "execution_count": 29,
   "id": "2ae2360d-6b1c-4227-9b49-3d2d5160b847",
   "metadata": {},
   "outputs": [],
   "source": [
    "#Importing Libraries\n",
    "import tensorflow \n",
    "import numpy as np \n",
    "import pandas as pd \n",
    "from collections import Counter\n",
    "import random\n",
    "import IPython\n",
    "from IPython.display import Image, Audio\n",
    "import music21\n",
    "from music21 import *\n",
    "import matplotlib.pyplot as plt \n",
    "from sklearn.model_selection import train_test_split\n",
    "from tensorflow.keras.models import Sequential\n",
    "from tensorflow.keras.layers import LSTM, Dense, Dropout\n",
    "import tensorflow.keras.backend as K\n",
    "from tensorflow.keras.optimizers import Adamax\n",
    "import seaborn as sns\n",
    "import matplotlib.pyplot as plt\n",
    "import matplotlib.patches as mpatches\n",
    "%matplotlib inline\n",
    "import sys\n",
    "import warnings\n",
    "warnings.filterwarnings(\"ignore\")\n",
    "warnings.simplefilter(\"ignore\")\n",
    "np.random.seed(42)"
   ]
  },
  {
   "cell_type": "code",
   "execution_count": 30,
   "id": "6aafcfbc-c374-43fa-b902-eb561372b734",
   "metadata": {},
   "outputs": [],
   "source": [
    "#Loading the list of chopin's midi files as stream \n",
    "import os\n",
    "filepath = \"archive (5)/chopin/\"\n",
    "#Getting midi files\n",
    "all_midis= []\n",
    "for i in os.listdir(filepath):\n",
    "    if i.endswith(\".mid\"):\n",
    "        tr = filepath+i\n",
    "        midi = converter.parse(tr)\n",
    "        all_midis.append(midi)"
   ]
  },
  {
   "cell_type": "code",
   "execution_count": 31,
   "id": "0cd85174-9ac4-4a35-b491-bbdc53c8f8f5",
   "metadata": {},
   "outputs": [
    {
     "name": "stdout",
     "output_type": "stream",
     "text": [
      "Total notes in all the Chopin midis in the dataset: 57894\n"
     ]
    }
   ],
   "source": [
    "#Helping function        \n",
    "def extract_notes(file):\n",
    "    notes = []\n",
    "    pick = None\n",
    "    for j in file:\n",
    "        songs = instrument.partitionByInstrument(j)\n",
    "        for part in songs.parts:\n",
    "            pick = part.recurse()\n",
    "            for element in pick:\n",
    "                if isinstance(element, note.Note):\n",
    "                    notes.append(str(element.pitch))\n",
    "                elif isinstance(element, chord.Chord):\n",
    "                    notes.append(\".\".join(str(n) for n in element.normalOrder))\n",
    "\n",
    "    return notes\n",
    "#Getting the list of notes as Corpus\n",
    "Corpus= extract_notes(all_midis)\n",
    "print(\"Total notes in all the Chopin midis in the dataset:\", len(Corpus))"
   ]
  },
  {
   "cell_type": "code",
   "execution_count": 32,
   "id": "7e29df20-5bb0-4dc0-bbd9-e0139bd2097f",
   "metadata": {},
   "outputs": [
    {
     "name": "stdout",
     "output_type": "stream",
     "text": [
      "First fifty values in the Corpus: ['7.0', 'G3', '0.4', 'E3', '0.4.7', 'A4', '9.11', 'A4', 'G3', '5.7', '2.5', '2.5.7', 'A4', '9.0', 'A4', 'G3', '4.7', '0.4', '0.4.7', 'A4', '4.9', 'A4', 'B3', '4.7', '4.7', '4.7.11', 'C5', '0.5', 'E4', '4.9', '9.0', '9.0.4', '2', '2.6', 'E4', '9.0', 'C4', '9.0.4', '2', '5.7', 'E4', '7.11', 'B3', '4.7.11', '2', '2', '7', 'B3', '2.5', 'F3']\n"
     ]
    }
   ],
   "source": [
    "print(\"First fifty values in the Corpus:\", Corpus[:50])"
   ]
  },
  {
   "cell_type": "code",
   "execution_count": 36,
   "id": "34c01846-2e1a-45db-823c-6fe26fbbb250",
   "metadata": {},
   "outputs": [],
   "source": [
    "from music21 import environment\n",
    "environment.UserSettings()['lilypondPath'] = \"lilypond-2.24.4-mingw-x86_64/lilypond-2.24.4/bin/lilypond.exe\"\n"
   ]
  },
  {
   "cell_type": "code",
   "execution_count": 38,
   "id": "dd589b15-261b-4250-a3d2-8898ac676f29",
   "metadata": {},
   "outputs": [
    {
     "ename": "LilyTranslateException",
     "evalue": "cannot find tmp7zso797i.ly.png or the full path C:\\Users\\MADHUS~1\\AppData\\Local\\Temp\\music21\\tmp7zso797i.ly.png original file was C:\\Users\\MADHUS~1\\AppData\\Local\\Temp\\music21\\tmp7zso797i.ly",
     "output_type": "error",
     "traceback": [
      "\u001b[1;31m---------------------------------------------------------------------------\u001b[0m",
      "\u001b[1;31mLilyTranslateException\u001b[0m                    Traceback (most recent call last)",
      "Cell \u001b[1;32mIn[38], line 31\u001b[0m\n\u001b[0;32m     28\u001b[0m     \u001b[38;5;28;01mreturn\u001b[39;00m Melody_midi\n\u001b[0;32m     30\u001b[0m Melody_Snippet \u001b[38;5;241m=\u001b[39m chords_n_notes(Corpus[:\u001b[38;5;241m100\u001b[39m])\n\u001b[1;32m---> 31\u001b[0m show(Melody_Snippet)\n",
      "Cell \u001b[1;32mIn[38], line 3\u001b[0m, in \u001b[0;36mshow\u001b[1;34m(music)\u001b[0m\n\u001b[0;32m      2\u001b[0m \u001b[38;5;28;01mdef\u001b[39;00m \u001b[38;5;21mshow\u001b[39m(music):\n\u001b[1;32m----> 3\u001b[0m     display(Image(\u001b[38;5;28mstr\u001b[39m(music\u001b[38;5;241m.\u001b[39mwrite(\u001b[38;5;124m\"\u001b[39m\u001b[38;5;124mlily.png\u001b[39m\u001b[38;5;124m\"\u001b[39m))))\n",
      "File \u001b[1;32m~\\anaconda3\\Lib\\site-packages\\music21\\stream\\base.py:406\u001b[0m, in \u001b[0;36mStream.write\u001b[1;34m(self, fmt, fp, **keywords)\u001b[0m\n\u001b[0;32m    404\u001b[0m \u001b[38;5;28;01mif\u001b[39;00m \u001b[38;5;28mself\u001b[39m\u001b[38;5;241m.\u001b[39misSorted \u001b[38;5;129;01mis\u001b[39;00m \u001b[38;5;28;01mFalse\u001b[39;00m \u001b[38;5;129;01mand\u001b[39;00m \u001b[38;5;28mself\u001b[39m\u001b[38;5;241m.\u001b[39mautoSort:  \u001b[38;5;66;03m# pragma: no cover\u001b[39;00m\n\u001b[0;32m    405\u001b[0m     \u001b[38;5;28mself\u001b[39m\u001b[38;5;241m.\u001b[39msort()\n\u001b[1;32m--> 406\u001b[0m \u001b[38;5;28;01mreturn\u001b[39;00m \u001b[38;5;28msuper\u001b[39m()\u001b[38;5;241m.\u001b[39mwrite(fmt\u001b[38;5;241m=\u001b[39mfmt, fp\u001b[38;5;241m=\u001b[39mfp, \u001b[38;5;241m*\u001b[39m\u001b[38;5;241m*\u001b[39mkeywords)\n",
      "File \u001b[1;32m~\\anaconda3\\Lib\\site-packages\\music21\\base.py:2924\u001b[0m, in \u001b[0;36mMusic21Object.write\u001b[1;34m(self, fmt, fp, **keywords)\u001b[0m\n\u001b[0;32m   2922\u001b[0m     \u001b[38;5;28;01mraise\u001b[39;00m Music21ObjectException(\u001b[38;5;124mf\u001b[39m\u001b[38;5;124m'\u001b[39m\u001b[38;5;124mcannot support output in this format yet: \u001b[39m\u001b[38;5;132;01m{\u001b[39;00mfmt\u001b[38;5;132;01m}\u001b[39;00m\u001b[38;5;124m'\u001b[39m)\n\u001b[0;32m   2923\u001b[0m formatWriter \u001b[38;5;241m=\u001b[39m scClass()\n\u001b[1;32m-> 2924\u001b[0m \u001b[38;5;28;01mreturn\u001b[39;00m formatWriter\u001b[38;5;241m.\u001b[39mwrite(\u001b[38;5;28mself\u001b[39m,\n\u001b[0;32m   2925\u001b[0m                           fmt\u001b[38;5;241m=\u001b[39mregularizedConverterFormat,\n\u001b[0;32m   2926\u001b[0m                           fp\u001b[38;5;241m=\u001b[39mfp,\n\u001b[0;32m   2927\u001b[0m                           subformats\u001b[38;5;241m=\u001b[39msubformats,\n\u001b[0;32m   2928\u001b[0m                           \u001b[38;5;241m*\u001b[39m\u001b[38;5;241m*\u001b[39mkeywords)\n",
      "File \u001b[1;32m~\\anaconda3\\Lib\\site-packages\\music21\\converter\\subConverters.py:432\u001b[0m, in \u001b[0;36mConverterLilypond.write\u001b[1;34m(self, obj, fmt, fp, subformats, coloredVariants, **keywords)\u001b[0m\n\u001b[0;32m    430\u001b[0m     convertedFilePath \u001b[38;5;241m=\u001b[39m conv\u001b[38;5;241m.\u001b[39mcreatePDF(fp)\n\u001b[0;32m    431\u001b[0m \u001b[38;5;28;01melif\u001b[39;00m \u001b[38;5;124m'\u001b[39m\u001b[38;5;124mpng\u001b[39m\u001b[38;5;124m'\u001b[39m \u001b[38;5;129;01min\u001b[39;00m subformats:\n\u001b[1;32m--> 432\u001b[0m     convertedFilePath \u001b[38;5;241m=\u001b[39m conv\u001b[38;5;241m.\u001b[39mcreatePNG(fp)\n\u001b[0;32m    433\u001b[0m \u001b[38;5;28;01melif\u001b[39;00m \u001b[38;5;124m'\u001b[39m\u001b[38;5;124msvg\u001b[39m\u001b[38;5;124m'\u001b[39m \u001b[38;5;129;01min\u001b[39;00m subformats:\n\u001b[0;32m    434\u001b[0m     convertedFilePath \u001b[38;5;241m=\u001b[39m conv\u001b[38;5;241m.\u001b[39mcreateSVG(fp)\n",
      "File \u001b[1;32m~\\anaconda3\\Lib\\site-packages\\music21\\lily\\translate.py:2511\u001b[0m, in \u001b[0;36mLilypondConverter.createPNG\u001b[1;34m(self, fileName)\u001b[0m\n\u001b[0;32m   2503\u001b[0m \u001b[38;5;28;01mdef\u001b[39;00m \u001b[38;5;21mcreatePNG\u001b[39m(\u001b[38;5;28mself\u001b[39m, fileName\u001b[38;5;241m=\u001b[39m\u001b[38;5;28;01mNone\u001b[39;00m):\n\u001b[0;32m   2504\u001b[0m \u001b[38;5;250m    \u001b[39m\u001b[38;5;124mr\u001b[39m\u001b[38;5;124;03m'''\u001b[39;00m\n\u001b[0;32m   2505\u001b[0m \u001b[38;5;124;03m    create a PNG file from self.topLevelObject and return the filepath of the file.\u001b[39;00m\n\u001b[0;32m   2506\u001b[0m \n\u001b[1;32m   (...)\u001b[0m\n\u001b[0;32m   2509\u001b[0m \u001b[38;5;124;03m    if PIL is installed then a small white border is created around the score\u001b[39;00m\n\u001b[0;32m   2510\u001b[0m \u001b[38;5;124;03m    '''\u001b[39;00m\n\u001b[1;32m-> 2511\u001b[0m     lilyFile \u001b[38;5;241m=\u001b[39m \u001b[38;5;28mself\u001b[39m\u001b[38;5;241m.\u001b[39mrunThroughLily(backend\u001b[38;5;241m=\u001b[39m\u001b[38;5;124m'\u001b[39m\u001b[38;5;124meps\u001b[39m\u001b[38;5;124m'\u001b[39m, \u001b[38;5;28mformat\u001b[39m\u001b[38;5;241m=\u001b[39m\u001b[38;5;124m'\u001b[39m\u001b[38;5;124mpng\u001b[39m\u001b[38;5;124m'\u001b[39m, fileName\u001b[38;5;241m=\u001b[39mfileName)\n\u001b[0;32m   2512\u001b[0m     \u001b[38;5;28;01mif\u001b[39;00m noPIL \u001b[38;5;129;01mis\u001b[39;00m \u001b[38;5;28;01mFalse\u001b[39;00m:\n\u001b[0;32m   2513\u001b[0m         \u001b[38;5;66;03m# noinspection PyPackageRequirements\u001b[39;00m\n\u001b[0;32m   2514\u001b[0m         \u001b[38;5;28;01mfrom\u001b[39;00m \u001b[38;5;21;01mPIL\u001b[39;00m \u001b[38;5;28;01mimport\u001b[39;00m Image, ImageOps  \u001b[38;5;66;03m# type: ignore\u001b[39;00m\n",
      "File \u001b[1;32m~\\anaconda3\\Lib\\site-packages\\music21\\lily\\translate.py:2467\u001b[0m, in \u001b[0;36mLilypondConverter.runThroughLily\u001b[1;34m(self, format, backend, fileName, skipWriting)\u001b[0m\n\u001b[0;32m   2465\u001b[0m     fileEnd \u001b[38;5;241m=\u001b[39m os\u001b[38;5;241m.\u001b[39mpath\u001b[38;5;241m.\u001b[39mbasename(fileForm)\n\u001b[0;32m   2466\u001b[0m     \u001b[38;5;28;01mif\u001b[39;00m \u001b[38;5;129;01mnot\u001b[39;00m os\u001b[38;5;241m.\u001b[39mpath\u001b[38;5;241m.\u001b[39mexists(fileEnd):\n\u001b[1;32m-> 2467\u001b[0m         \u001b[38;5;28;01mraise\u001b[39;00m LilyTranslateException(\u001b[38;5;124m'\u001b[39m\u001b[38;5;124mcannot find \u001b[39m\u001b[38;5;124m'\u001b[39m \u001b[38;5;241m+\u001b[39m \u001b[38;5;28mstr\u001b[39m(fileEnd)\n\u001b[0;32m   2468\u001b[0m                                      \u001b[38;5;241m+\u001b[39m \u001b[38;5;124m'\u001b[39m\u001b[38;5;124m or the full path \u001b[39m\u001b[38;5;124m'\u001b[39m \u001b[38;5;241m+\u001b[39m \u001b[38;5;28mstr\u001b[39m(fileForm)\n\u001b[0;32m   2469\u001b[0m                                      \u001b[38;5;241m+\u001b[39m \u001b[38;5;124m'\u001b[39m\u001b[38;5;124m original file was \u001b[39m\u001b[38;5;124m'\u001b[39m \u001b[38;5;241m+\u001b[39m \u001b[38;5;28mstr\u001b[39m(fileName))\n\u001b[0;32m   2470\u001b[0m     fileForm \u001b[38;5;241m=\u001b[39m fileEnd\n\u001b[0;32m   2471\u001b[0m \u001b[38;5;28;01mreturn\u001b[39;00m pathlib\u001b[38;5;241m.\u001b[39mPath(fileForm)\n",
      "\u001b[1;31mLilyTranslateException\u001b[0m: cannot find tmp7zso797i.ly.png or the full path C:\\Users\\MADHUS~1\\AppData\\Local\\Temp\\music21\\tmp7zso797i.ly.png original file was C:\\Users\\MADHUS~1\\AppData\\Local\\Temp\\music21\\tmp7zso797i.ly"
     ]
    }
   ],
   "source": [
    "#First Lets write some functions that we need to look into the data\n",
    "def show(music):\n",
    "    display(Image(str(music.write(\"lily.png\"))))\n",
    "    \n",
    "def chords_n_notes(Snippet):\n",
    "    Melody = []\n",
    "    offset = 0 #Incremental\n",
    "    for i in Snippet:\n",
    "        #If it is chord\n",
    "        if (\".\" in i or i.isdigit()):\n",
    "            chord_notes = i.split(\".\") #Seperating the notes in chord\n",
    "            notes = [] \n",
    "            for j in chord_notes:\n",
    "                inst_note=int(j)\n",
    "                note_snip = note.Note(inst_note)            \n",
    "                notes.append(note_snip)\n",
    "                chord_snip = chord.Chord(notes)\n",
    "                chord_snip.offset = offset\n",
    "                Melody.append(chord_snip)\n",
    "        # pattern is a note\n",
    "        else: \n",
    "            note_snip = note.Note(i)\n",
    "            note_snip.offset = offset\n",
    "            Melody.append(note_snip)\n",
    "        # increase offset each iteration so that notes do not stack\n",
    "        offset += 1\n",
    "    Melody_midi = stream.Stream(Melody)   \n",
    "    return Melody_midi\n",
    "\n",
    "Melody_Snippet = chords_n_notes(Corpus[:100])\n",
    "show(Melody_Snippet)"
   ]
  },
  {
   "cell_type": "code",
   "execution_count": null,
   "id": "0c4c8b80-3ab4-4e1a-a952-01b35ecdd2a0",
   "metadata": {},
   "outputs": [],
   "source": []
  },
  {
   "cell_type": "code",
   "execution_count": null,
   "id": "46f0f369-f3ae-4c4a-8d93-1de9d7c58816",
   "metadata": {},
   "outputs": [],
   "source": []
  },
  {
   "cell_type": "code",
   "execution_count": null,
   "id": "323856c5-070b-42cf-bc03-efa33c91f249",
   "metadata": {},
   "outputs": [],
   "source": []
  }
 ],
 "metadata": {
  "kernelspec": {
   "display_name": "base",
   "language": "python",
   "name": "python3"
  },
  "language_info": {
   "codemirror_mode": {
    "name": "ipython",
    "version": 3
   },
   "file_extension": ".py",
   "mimetype": "text/x-python",
   "name": "python",
   "nbconvert_exporter": "python",
   "pygments_lexer": "ipython3",
   "version": "3.12.7"
  }
 },
 "nbformat": 4,
 "nbformat_minor": 5
}
